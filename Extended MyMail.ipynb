{
  "nbformat": 4,
  "nbformat_minor": 0,
  "metadata": {
    "colab": {
      "name": "MyMail Project-Final code.ipynb",
      "provenance": []
    },
    "kernelspec": {
      "name": "python3",
      "display_name": "Python 3"
    },
    "language_info": {
      "name": "python"
    }
  },
  "cells": [
    {
      "cell_type": "markdown",
      "metadata": {
        "id": "hhR0oK5_2X6d"
      },
      "source": [
        "FOR CODE TO WORK->DO THIS TO YOUR GOOGLE ACCOUNT:\n",
        "\n",
        "1.access for less secure apps only for sender's mail id\n",
        "2. https://accounts.google.com/DisplayUnlockCaptcha and ENABLE also only for sender's mailID"
      ]
    },
    {
      "cell_type": "markdown",
      "metadata": {
        "id": "ipVHEKCuUqEy"
      },
      "source": [
        "OBJECTIVE:\n",
        "\n",
        "MAIL PLAIN TEXT/PDF/HTML MAILS TO SINGLE/MULTIPLE RECIPIENTS"
      ]
    },
    {
      "cell_type": "code",
      "metadata": {
        "id": "6ULcayF-61Dh"
      },
      "source": [
        "!mkdir \"attachments\"\n",
        "\n",
        "#creating a directory to save the uploaded files"
      ],
      "execution_count": 1,
      "outputs": []
    },
    {
      "cell_type": "markdown",
      "metadata": {
        "id": "5NFqYgsUhwb6"
      },
      "source": [
        "STREAMLIT FOR FRONT-END"
      ]
    },
    {
      "cell_type": "code",
      "metadata": {
        "colab": {
          "base_uri": "https://localhost:8080/"
        },
        "id": "687HYRLH3YBJ",
        "outputId": "5ad1783f-0971-43b9-f781-2cba77eb343f"
      },
      "source": [
        "!pip install streamlit --quiet\n",
        "!pip install pyngrok==4.1.1 --quiet\n",
        "from pyngrok import ngrok"
      ],
      "execution_count": 2,
      "outputs": [
        {
          "output_type": "stream",
          "text": [
            "\u001b[K     |████████████████████████████████| 8.2MB 11.0MB/s \n",
            "\u001b[K     |████████████████████████████████| 81kB 5.6MB/s \n",
            "\u001b[K     |████████████████████████████████| 4.2MB 73.5MB/s \n",
            "\u001b[K     |████████████████████████████████| 163kB 73.7MB/s \n",
            "\u001b[K     |████████████████████████████████| 112kB 51.3MB/s \n",
            "\u001b[K     |████████████████████████████████| 122kB 71.5MB/s \n",
            "\u001b[K     |████████████████████████████████| 71kB 5.8MB/s \n",
            "\u001b[?25h  Building wheel for blinker (setup.py) ... \u001b[?25l\u001b[?25hdone\n",
            "\u001b[31mERROR: google-colab 1.0.0 has requirement ipykernel~=4.10, but you'll have ipykernel 5.5.4 which is incompatible.\u001b[0m\n",
            "  Building wheel for pyngrok (setup.py) ... \u001b[?25l\u001b[?25hdone\n"
          ],
          "name": "stdout"
        }
      ]
    },
    {
      "cell_type": "markdown",
      "metadata": {
        "id": "jMD3ywtfwz4g"
      },
      "source": [
        "1.Connect to the mail server-the classes needed for this are imported from smtplib module.\n",
        "\n",
        "2.Context Manager ensures that connections are closed automatically and we dont have to do this manually.So,include a context manager.\n",
        "\n"
      ]
    },
    {
      "cell_type": "code",
      "metadata": {
        "colab": {
          "base_uri": "https://localhost:8080/"
        },
        "id": "Y4YYlzMev25N",
        "outputId": "e809f4fd-9223-49ff-8bac-31649cc5eca4"
      },
      "source": [
        "%%writefile app.py\n",
        "import streamlit as st\n",
        "import os\n",
        "import smtplib\n",
        "from email.message import EmailMessage\n",
        "sender='dont.reply.us.999@gmail.com'\n",
        "sender_password='cn_project@2021$'\n",
        "imgs=['jpg','jpeg','png']\n",
        "\n",
        "#function to save attachments to be mailed\n",
        "def save_uploadedfile(uploadedfile):\n",
        "     with open(os.path.join(\"/content/attachments\",uploadedfile.name),\"wb\") as f:\n",
        "         f.write(uploadedfile.getbuffer())\n",
        "\n",
        "#function to send a plain text mail:\n",
        "def mail_plain_text(to,sub,body,status):\n",
        "\n",
        "  #using the SMTP class from smtplib module:\n",
        "  with smtplib.SMTP('smtp.gmail.com',587) as smtp:\n",
        "\n",
        "    #context manager:\n",
        "    smtp.ehlo()  #identifies ourselves with the mail server which we are using.It gets called automatically in the background  \n",
        "    smtp.starttls()  #encrypt the traffic-SMTP uses TLS encryption  \n",
        "    smtp.ehlo() #re-run ehlo for encryption\n",
        "\n",
        "    #create message object\n",
        "    msg=EmailMessage()\n",
        "    msg['Subject']=sub\n",
        "    msg['From']=sender\n",
        "    \n",
        "    for i in to:\n",
        "\n",
        "      msg['To']=i       \n",
        "\n",
        "     \n",
        "\n",
        "      if(status):\n",
        "        msg.set_content(body+\"Extras:Steps to start a Data Science project\")\n",
        "\n",
        "        msg.add_alternative(\"\"\"\\\n",
        "        <!DOCTYPE html>\n",
        "        <html>\n",
        "        <body>\n",
        "          <a href=\"https://www.kaggle.com/\">1.Collect your dataset</a>\n",
        "          <br>\n",
        "          <a href=\"https://www.youtube.com/\">2.Understand the concepts</a>\n",
        "           <br>\n",
        "          <a href=\"https://github.com/\">3.Check out any practical implementation here</a>\n",
        "           <br>\n",
        "        </body>\n",
        "        </html>\"\"\",subtype=\"html\")\n",
        "\n",
        "      else:\n",
        "        msg.set_content(body)\n",
        "\n",
        "      #login:\n",
        "      smtp.login(sender,sender_password)\n",
        "\n",
        "      #mail:\n",
        "      smtp.send_message(msg)\n",
        "\n",
        "      #clear To\n",
        "      del msg['To']\n",
        "\n",
        "\n",
        "#function to mail images/pdfs\n",
        "def mail_attachments(to,sub,body,uploads,status):\n",
        "\n",
        "  #using the SMTP class from smtplib module:\n",
        "  with smtplib.SMTP('smtp.gmail.com',587) as smtp:\n",
        "\n",
        "    #context manager:\n",
        "    smtp.ehlo()  #identifies ourselves with the mail server which we are using.It gets called automatically in the background  \n",
        "    smtp.starttls()  #encrypt the traffic-SMTP uses TLS encryption  \n",
        "    smtp.ehlo() #re-run ehlo for encryption\n",
        "\n",
        "    #create message object\n",
        "    msg=EmailMessage()\n",
        "    msg['Subject']=sub\n",
        "    msg['From']=sender\n",
        "    \n",
        "    for i in to:\n",
        "\n",
        "      msg['To']=i \n",
        "     \n",
        "      if(status):\n",
        "        msg.set_content(body+\"Extras:Steps to start a Data Science project\")\n",
        "\n",
        "        msg.add_alternative(\"\"\"\\\n",
        "        <!DOCTYPE html>\n",
        "        <html>\n",
        "        <body>\n",
        "          <a href=\"https://www.kaggle.com/\">1.Collect your dataset</a>\n",
        "           <br>\n",
        "          <a href=\"https://www.youtube.com/\">2.Understand the concepts</a>\n",
        "           <br>\n",
        "          <a href=\"https://github.com/\">3.Check out any practical implementation here</a>\n",
        "           <br>\n",
        "        </body>\n",
        "        </html>\"\"\",subtype=\"html\")\n",
        "\n",
        "      \n",
        "\n",
        "      \n",
        "\n",
        "\n",
        "      for upload in uploads: \n",
        "\n",
        "          #save the attachment in attachments folder:\n",
        "          save_uploadedfile(upload)\n",
        "          attach_file_name = \"/content/attachments/\"+upload.name\n",
        "\n",
        "          #open image\n",
        "          #rb-read bytes\n",
        "          with open(attach_file_name,'rb') as f: \n",
        "            file_data=f.read()          \n",
        "          \n",
        "          if(upload.type in imgs):\n",
        "            msg.add_attachment(file_data,maintype='image',subtype=upload.type,filename=attach_file_name)  #image-jpg,png,jpeg\n",
        "          else:\n",
        "            msg.add_attachment(file_data,maintype='application',subtype='octet-stream',filename=attach_file_name) #pdf\n",
        "\n",
        "\n",
        "      #login:\n",
        "      smtp.login(sender,sender_password)\n",
        "\n",
        "      #mail:\n",
        "      smtp.send_message(msg)\n",
        "\n",
        "      #clear To\n",
        "      del msg['To']\n",
        "\n",
        "st.title(\"MyMail\")\n",
        "lis_to=[]\n",
        "status=0\n",
        "\n",
        "#mail multiple accounts in a mail\n",
        "recipient_mail_ids = st.text_area(\"To:\")\n",
        "\n",
        "if \",\" in recipient_mail_ids:\n",
        "  lis_to=recipient_mail_ids.split(\",\")  #multiple email ids are separated by ,\n",
        "else:\n",
        "  lis_to.append(recipient_mail_ids) #single recipient\n",
        "\n",
        "\n",
        "#textbox to input subject of the mail\n",
        "subject = st.text_input(\"Subject:\", \"no-subject\")\n",
        "#user_input = st.text_input(\"label goes here\", default_value_goes_here)\n",
        "\n",
        "\n",
        "#bigger textbox for body of the mail\n",
        "mail_content = st.text_area(\"Body of the mail:\")\n",
        "#user_input = st.text_area(\"label goes here\", default_value_goes_here)\n",
        "\n",
        "\n",
        "#attachments section\n",
        "uploads = st.file_uploader('Please upload the attachments if any:',accept_multiple_files=True)\n",
        "#mail multiple images/pdf attachments in a mail\n",
        "\n",
        "if(st.checkbox(\"Add common links to browse and attract your recipients!\")):\n",
        "  #add an url with information-HTML mail\n",
        "  status=1\n",
        "\n",
        "  \n",
        "#send button\n",
        "if(st.button('Send')):\n",
        "\n",
        " if(len(uploads)==0):\n",
        "   mail_plain_text(lis_to,subject,mail_content,status)\n",
        " else:\n",
        "   mail_attachments(lis_to,subject,mail_content,uploads,status)\n",
        "\n",
        "\n",
        "\n",
        " \n"
      ],
      "execution_count": 8,
      "outputs": [
        {
          "output_type": "stream",
          "text": [
            "Overwriting app.py\n"
          ],
          "name": "stdout"
        }
      ]
    },
    {
      "cell_type": "code",
      "metadata": {
        "colab": {
          "base_uri": "https://localhost:8080/",
          "height": 52
        },
        "id": "kpJ9YX4O5BwM",
        "outputId": "3355c550-147d-4859-9f8f-8c8354563b6d"
      },
      "source": [
        "!nohup streamlit run app.py &\n",
        "url = ngrok.connect(port='8501')\n",
        "url"
      ],
      "execution_count": 4,
      "outputs": [
        {
          "output_type": "stream",
          "text": [
            "nohup: appending output to 'nohup.out'\n"
          ],
          "name": "stdout"
        },
        {
          "output_type": "execute_result",
          "data": {
            "application/vnd.google.colaboratory.intrinsic+json": {
              "type": "string"
            },
            "text/plain": [
              "'http://8b0b6f339400.ngrok.io'"
            ]
          },
          "metadata": {
            "tags": []
          },
          "execution_count": 4
        }
      ]
    }
  ]
}