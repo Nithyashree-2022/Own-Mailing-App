{
  "nbformat": 4,
  "nbformat_minor": 0,
  "metadata": {
    "colab": {
      "name": "CN Project-Implementation of SMTP.ipynb",
      "provenance": [],
      "collapsed_sections": []
    },
    "kernelspec": {
      "name": "python3",
      "display_name": "Python 3"
    }
  },
  "cells": [
    {
      "cell_type": "markdown",
      "metadata": {
        "id": "hhR0oK5_2X6d"
      },
      "source": [
        "FOR CODE TO WORK->DO THIS TO YOUR GOOGLE ACCOUNT:\n",
        "\n",
        "1.access for less secure apps only for sender's mail id\n",
        "2. https://accounts.google.com/DisplayUnlockCaptcha and ENABLE also only for sender's mailID"
      ]
    },
    {
      "cell_type": "code",
      "metadata": {
        "colab": {
          "base_uri": "https://localhost:8080/"
        },
        "id": "6ULcayF-61Dh",
        "outputId": "b860bb47-caba-41c7-87ec-c62fe02439bd"
      },
      "source": [
        "!mkdir \"attachments\"\n",
        "\n",
        "#creating a directory to save the uploaded files"
      ],
      "execution_count": 2,
      "outputs": [
        {
          "output_type": "stream",
          "text": [
            "mkdir: cannot create directory ‘attachments’: File exists\n"
          ],
          "name": "stdout"
        }
      ]
    },
    {
      "cell_type": "markdown",
      "metadata": {
        "id": "5NFqYgsUhwb6"
      },
      "source": [
        "STREAMLIT FOR FRONT-END"
      ]
    },
    {
      "cell_type": "code",
      "metadata": {
        "colab": {
          "base_uri": "https://localhost:8080/"
        },
        "id": "687HYRLH3YBJ",
        "outputId": "072b1c8d-a44c-43a1-c085-9ac5bb18acb0"
      },
      "source": [
        "!pip install streamlit --quiet\n",
        "!pip install pyngrok==4.1.1 --quiet\n",
        "from pyngrok import ngrok"
      ],
      "execution_count": 3,
      "outputs": [
        {
          "output_type": "stream",
          "text": [
            "\u001b[K     |████████████████████████████████| 8.2MB 5.6MB/s \n",
            "\u001b[K     |████████████████████████████████| 163kB 34.1MB/s \n",
            "\u001b[K     |████████████████████████████████| 4.2MB 52.6MB/s \n",
            "\u001b[K     |████████████████████████████████| 112kB 35.0MB/s \n",
            "\u001b[K     |████████████████████████████████| 81kB 7.7MB/s \n",
            "\u001b[K     |████████████████████████████████| 71kB 7.1MB/s \n",
            "\u001b[K     |████████████████████████████████| 122kB 58.9MB/s \n",
            "\u001b[?25h  Building wheel for blinker (setup.py) ... \u001b[?25l\u001b[?25hdone\n",
            "\u001b[31mERROR: google-colab 1.0.0 has requirement ipykernel~=4.10, but you'll have ipykernel 5.5.3 which is incompatible.\u001b[0m\n",
            "  Building wheel for pyngrok (setup.py) ... \u001b[?25l\u001b[?25hdone\n"
          ],
          "name": "stdout"
        }
      ]
    },
    {
      "cell_type": "code",
      "metadata": {
        "colab": {
          "base_uri": "https://localhost:8080/"
        },
        "id": "ADPbKe4ah1I0",
        "outputId": "7879f627-9b87-4d9d-e471-fece0a8d72d4"
      },
      "source": [
        "%%writefile app.py\n",
        "\n",
        "import streamlit as st\n",
        "import os\n",
        "import smtplib,ssl\n",
        "from email.mime.text import MIMEText\n",
        "from email.mime.image import MIMEImage\n",
        "from email.mime.multipart import MIMEMultipart\n",
        "from email.mime.base import MIMEBase\n",
        "from email import encoders\n",
        "import base64\n",
        "\n",
        "\n",
        "#function to mail attachments\n",
        "def save_uploadedfile(uploadedfile):\n",
        "     with open(os.path.join(\"/content/attachments\",uploadedfile.name),\"wb\") as f:\n",
        "         f.write(uploadedfile.getbuffer())\n",
        "     #return st.success(\"Saved File:{} to tempDir\".format(uploadedfile.name))\n",
        "\n",
        "#function to mail image\n",
        "def send_mail(to,subject,content,lis_to,uploads=None):\n",
        "\n",
        "    msg=MIMEMultipart()\n",
        "\n",
        "    msg['Subject']=subject\n",
        "    msg['From']='dont.reply.us.999@gmail.com'\n",
        "    msg['To']=to\n",
        "\n",
        "    From='dont.reply.us.999@gmail.com'\n",
        "    \n",
        "\n",
        "    final_content=content+\" \"+\"\"\" \n",
        "\n",
        "    \n",
        "\n",
        "Please do not reply.This is an auto-generated mail.\"\"\"\n",
        "\n",
        "    text=MIMEText(final_content)\n",
        "    msg.attach(text)\n",
        "\n",
        "    if uploads is not None:\n",
        "      for acc in lis_to:\n",
        "        To=acc\n",
        "        for upload in uploads:\n",
        "          #save the attachment in attachments folder:\n",
        "          save_uploadedfile(upload)\n",
        "\n",
        "          attach_file_name = \"/content/attachments/\"+upload.name\n",
        "\n",
        "          img_data = open(attach_file_name, 'rb').read() # Open the file as binary mode\n",
        "\n",
        "          image = MIMEImage(img_data, name=attach_file_name)\n",
        "          msg.attach(image)     \n",
        "  \n",
        "        s=smtplib.SMTP(\"smtp.gmail.com\",587)\n",
        "\n",
        "        s.ehlo()\n",
        "        s.starttls()\n",
        "        s.ehlo()\n",
        "        s.login(\"dont.reply.us.999@gmail.com\",\"cn_project@2021$\")\n",
        "        s.sendmail(From,To,msg.as_string())\n",
        "        s.quit()\n",
        "       \n",
        "\n",
        "    else:\n",
        "      \n",
        "      for acc in lis_to:\n",
        "             \n",
        "        To=acc       \n",
        "\n",
        "        s=smtplib.SMTP(\"smtp.gmail.com\",587)\n",
        "\n",
        "        s.ehlo()\n",
        "        s.starttls()\n",
        "        s.ehlo()\n",
        "        s.login(\"dont.reply.us.999@gmail.com\",\"cn_project@2021$\")\n",
        "        s.sendmail(From,To,msg.as_string())\n",
        "        s.quit()    \n",
        "\n",
        "\n",
        "\n",
        "st.title(\"My Mail Application\")\n",
        "\n",
        "lis_to=[]\n",
        "\n",
        "#mail multiple accounts in a mail\n",
        "recipient_mail_ids = st.text_area(\"To:\",\"dont.reply.us.999@gmail.com\")\n",
        "\n",
        "if \",\" in recipient_mail_ids:\n",
        "  lis_to=recipient_mail_ids.split(\",\")\n",
        "else:\n",
        "  lis_to.append(recipient_mail_ids)\n",
        "\n",
        "\n",
        "#textbox to input subject of the mail\n",
        "subject = st.text_input(\"Subject:\", \"no-subject\")\n",
        "#user_input = st.text_input(\"label goes here\", default_value_goes_here)\n",
        "\n",
        "\n",
        "#bigger textbox for body of the mail\n",
        "mail_content = st.text_area(\"Body of the mail:\")\n",
        "#user_input = st.text_area(\"label goes here\", default_value_goes_here)\n",
        "\n",
        "\n",
        "#attachments section\n",
        "uploads = st.file_uploader('Please upload the attachments if any:',accept_multiple_files=True,type=[\"jpeg\",\"jpg\",\"png\"])\n",
        "#mail multiple images in a mail\n",
        "\n",
        "\n",
        "#send button\n",
        "if(st.button('Send')):\n",
        "\n",
        " if(len(uploads)==0):\n",
        "   send_mail(recipient_mail_ids,subject,mail_content,lis_to)\n",
        " else:\n",
        "   send_mail(recipient_mail_ids,subject,mail_content,lis_to,uploads)\n",
        "\n",
        "  \n",
        "  "
      ],
      "execution_count": 6,
      "outputs": [
        {
          "output_type": "stream",
          "text": [
            "Overwriting app.py\n"
          ],
          "name": "stdout"
        }
      ]
    },
    {
      "cell_type": "code",
      "metadata": {
        "colab": {
          "base_uri": "https://localhost:8080/",
          "height": 53
        },
        "id": "kpJ9YX4O5BwM",
        "outputId": "0830837f-b2ba-4376-e1e0-0ae7221fd777"
      },
      "source": [
        "!nohup streamlit run app.py &\n",
        "url = ngrok.connect(port='8501')\n",
        "url"
      ],
      "execution_count": 5,
      "outputs": [
        {
          "output_type": "stream",
          "text": [
            "nohup: appending output to 'nohup.out'\n"
          ],
          "name": "stdout"
        },
        {
          "output_type": "execute_result",
          "data": {
            "application/vnd.google.colaboratory.intrinsic+json": {
              "type": "string"
            },
            "text/plain": [
              "'http://b4a0e535ebe9.ngrok.io'"
            ]
          },
          "metadata": {
            "tags": []
          },
          "execution_count": 5
        }
      ]
    }
  ]
}